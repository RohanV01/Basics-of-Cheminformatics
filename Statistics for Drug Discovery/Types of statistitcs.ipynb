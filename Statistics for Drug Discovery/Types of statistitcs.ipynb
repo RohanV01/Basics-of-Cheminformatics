{
 "cells": [
  {
   "cell_type": "code",
   "execution_count": null,
   "metadata": {},
   "outputs": [],
   "source": [
    "# Descriptive Statistics Example\n",
    "# In drug discovery, descriptive statistics can be applied in various ways:\n",
    "\n",
    "# Example: Molecular Weight Distribution\n",
    "# Suppose we are analyzing a dataset of potential drug compounds. We can calculate the mean, median, and standard deviation of the molecular weights to understand the central tendency and variability of the compounds."
   ]
  },
  {
   "cell_type": "code",
   "execution_count": null,
   "metadata": {},
   "outputs": [],
   "source": [
    "import numpy as np\n",
    "\n",
    "# Sample dataset of molecular weights\n",
    "molecular_weights = [300, 350, 310, 330, 290, 380, 370, 400]\n",
    "\n",
    "# Calculate mean, median, and standard deviation\n",
    "mean_weight = np.mean(molecular_weights)\n",
    "median_weight = np.median(molecular_weights)\n",
    "std_dev = np.std(molecular_weights)\n",
    "\n",
    "print(f\"Mean Molecular Weight: {mean_weight}\")\n",
    "print(f\"Median Molecular Weight: {median_weight}\")\n",
    "print(f\"Standard Deviation: {std_dev}\")\n"
   ]
  },
  {
   "cell_type": "code",
   "execution_count": null,
   "metadata": {},
   "outputs": [],
   "source": [
    "# Inferential Statistics Example\n",
    "# Inferential statistics play a crucial role in drug discovery for making predictions and drawing conclusions:\n",
    "\n",
    "# Example: Drug Efficacy Comparison\n",
    "# Suppose we have two groups of patients, one receiving Drug A and the other receiving Drug B. We collect data on their response rates to the respective drugs.#"
   ]
  },
  {
   "cell_type": "code",
   "execution_count": null,
   "metadata": {},
   "outputs": [],
   "source": [
    "import scipy.stats as stats\n",
    "\n",
    "# Sample data (response rates)\n",
    "drug_a_responses = [0, 1, 1, 1, 1, 0, 0, 0, 1, 1]\n",
    "drug_b_responses = [1, 1, 1, 0, 1, 1, 0, 1, 0, 1]\n",
    "\n",
    "# Perform a t-test to compare efficacy\n",
    "t_stat, p_value = stats.ttest_ind(drug_a_responses, drug_b_responses)\n",
    "\n",
    "if p_value < 0.05:\n",
    "    print(f\"T-Stat: {t_stat}, p-Value: {p_value}\\nSignificant difference detected!\")\n",
    "else:\n",
    "    print(f\"T-Stat: {t_stat}, p-Value: {p_value}\\nNo significant difference detected.\")"
   ]
  }
 ],
 "metadata": {
  "language_info": {
   "name": "python"
  },
  "orig_nbformat": 4
 },
 "nbformat": 4,
 "nbformat_minor": 2
}
